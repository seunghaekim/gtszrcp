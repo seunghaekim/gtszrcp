{
 "cells": [
  {
   "cell_type": "code",
   "execution_count": 16,
   "metadata": {},
   "outputs": [],
   "source": [
    "from bibliography.models import Book\n",
    "from bibliography.models import Bookshop\n",
    "from pages.models import Page\n",
    "from django.forms.models import model_to_dict\n",
    "from django.contrib.auth import get_user_model"
   ]
  },
  {
   "cell_type": "code",
   "execution_count": 58,
   "metadata": {
    "scrolled": true
   },
   "outputs": [
    {
     "name": "stdout",
     "output_type": "stream",
     "text": [
      "2018-05-26 16:07:46.220813+00:00\n"
     ]
    }
   ],
   "source": [
    "postObj = Page.objects.select_related().prefetch_related().get(slug='achapters002')\n",
    "\n",
    "post = {}\n",
    "for key in model_to_dict(postObj):\n",
    "    post[key] = getattr(postObj, key)\n",
    "    if key == 'author':\n",
    "        post[key] = ' '.join([post[key].first_name.capitalize(), post[key].last_name])\n",
    "\n",
    "post['createtime'] = postObj.createtime\n",
    "print(postObj.createtime)"
   ]
  }
 ],
 "metadata": {
  "kernelspec": {
   "display_name": "Django Shell-Plus",
   "language": "python",
   "name": "django_extensions"
  },
  "language_info": {
   "codemirror_mode": {
    "name": "ipython",
    "version": 3
   },
   "file_extension": ".py",
   "mimetype": "text/x-python",
   "name": "python",
   "nbconvert_exporter": "python",
   "pygments_lexer": "ipython3",
   "version": "3.6.4"
  }
 },
 "nbformat": 4,
 "nbformat_minor": 2
}
